{
 "cells": [
  {
   "cell_type": "code",
   "execution_count": null,
   "id": "5964eac0",
   "metadata": {},
   "outputs": [],
   "source": [
    "import numpy as np\n",
    "import os\n",
    "from sklearn.metrics import confusion_matrix\n",
    "import seaborn as sn; sn.set(font_scale=1.4)\n",
    "from sklearn.utils import shuffle           \n",
    "import matplotlib.pyplot as plt             \n",
    "import cv2                                 \n",
    "import tensorflow as tf                \n",
    "from tqdm import tqdm\n",
    "from keras.models import Sequential\n",
    "from keras.layers import Dense, Activation, Dropout, Flatten\n",
    "from keras.layers import Conv2D\n",
    "from keras.layers import MaxPooling2D\n",
    "from keras.optimizers import SGD, Adam"
   ]
  },
  {
   "cell_type": "code",
   "execution_count": null,
   "id": "6fd2c5ea",
   "metadata": {},
   "outputs": [],
   "source": [
    "class_names = ['monkey','person']\n",
    "class_names_label = {class_name:i for i, class_name in enumerate(class_names)}\n",
    "nb_classes = len(class_names)\n",
    "IMAGE_SIZE = (256, 256)"
   ]
  },
  {
   "cell_type": "code",
   "execution_count": null,
   "id": "e58f7b19",
   "metadata": {},
   "outputs": [],
   "source": [
    "def load_data():\n",
    "    datasets = ['archive/training_set', 'archive/test_set']#資料夾\n",
    "    output = []\n",
    "    \n",
    "    # Iterate through training and test sets\n",
    "    for dataset in datasets:\n",
    "        \n",
    "        images = []\n",
    "        labels = []\n",
    "        \n",
    "        print(\"Loading {}\".format(dataset))\n",
    "        \n",
    "        # Iterate through each folder corresponding to a category\n",
    "        for folder in os.listdir(dataset):\n",
    "            label = class_names_label[folder]\n",
    "            \n",
    "            # Iterate through each image in our folder\n",
    "            for file in tqdm(os.listdir(os.path.join(dataset, folder))):\n",
    "                \n",
    "                # Get the path name of the image\n",
    "                img_path = os.path.join(os.path.join(dataset, folder), file)\n",
    "                if file == \"desktop.ini\":\n",
    "                    break\n",
    "                # Open and resize the img\n",
    "                print(img_path)\n",
    "                image = cv2.imread(img_path)\n",
    "                print(image.shape)\n",
    "                image = cv2.cvtColor(image, cv2.COLOR_BGR2RGB)\n",
    "                #cv讀照片，顏色莫認為BGR，需轉為RGB，錯誤表示黑白或已轉\n",
    "                image = cv2.resize(image, IMAGE_SIZE) \n",
    "                \n",
    "                # Append the image and its corresponding label to the output\n",
    "                images.append(image)\n",
    "                labels.append(label)\n",
    "                \n",
    "        images = np.array(images, dtype = 'float32')\n",
    "        labels = np.array(labels, dtype = 'int32')   \n",
    "        \n",
    "        output.append((images, labels))\n",
    "\n",
    "    return output"
   ]
  },
  {
   "cell_type": "code",
   "execution_count": null,
   "id": "c1668af5",
   "metadata": {},
   "outputs": [],
   "source": [
    "(train_images, train_labels), (test_images, test_labels) = load_data()"
   ]
  },
  {
   "cell_type": "code",
   "execution_count": null,
   "id": "3e612766",
   "metadata": {},
   "outputs": [],
   "source": [
    "print(train_images)"
   ]
  },
  {
   "cell_type": "code",
   "execution_count": null,
   "id": "45e2724d",
   "metadata": {},
   "outputs": [],
   "source": [
    "train_images, train_labels = shuffle(train_images, train_labels, random_state=25)"
   ]
  },
  {
   "cell_type": "code",
   "execution_count": null,
   "id": "997c6103",
   "metadata": {},
   "outputs": [],
   "source": [
    "train_images = train_images / 255.0 \n",
    "test_images = test_images / 255.0"
   ]
  },
  {
   "cell_type": "code",
   "execution_count": null,
   "id": "2e8af9a3",
   "metadata": {},
   "outputs": [],
   "source": [
    "input_shape = (256, 256, 3)"
   ]
  },
  {
   "cell_type": "code",
   "execution_count": null,
   "id": "9fa5203c",
   "metadata": {},
   "outputs": [],
   "source": [
    "model = Sequential([\n",
    "    Conv2D(256, (3, 3), input_shape=input_shape, padding='same',\n",
    "           activation='relu', strides=2),\n",
    "    MaxPooling2D(pool_size=(2, 2), strides=2),\n",
    "    Dropout(0.2),\n",
    "    Conv2D(512, (3, 3), input_shape=input_shape, padding='same',\n",
    "           activation='relu', strides=2),\n",
    "    MaxPooling2D(pool_size=(2, 2), strides=2),\n",
    "    Dropout(0.2),\n",
    "    Flatten(),\n",
    "    Dropout(0.5),\n",
    "    Dense(2, activation='softmax') #輸出層，分類用softmax\n",
    "])\n",
    "model.compile(optimizer = 'adam', #SGD(lr=0.1)\n",
    "              loss = 'sparse_categorical_crossentropy',\n",
    "              metrics=['accuracy'])"
   ]
  },
  {
   "cell_type": "code",
   "execution_count": null,
   "id": "61b561ae",
   "metadata": {},
   "outputs": [],
   "source": [
    "history = model.fit(train_images, train_labels, \n",
    "                    #validation_data=(test_images, test_labels),\n",
    "                    #verbose=2,callbacks=[earlyStop],\n",
    "                    batch_size=8, epochs=100)"
   ]
  },
  {
   "cell_type": "code",
   "execution_count": null,
   "id": "2e6a69fd",
   "metadata": {},
   "outputs": [],
   "source": [
    "plt.title('train_loss')\n",
    "plt.ylabel('loss')\n",
    "plt.xlabel('Epoch')\n",
    "plt.plot(history.history[\"loss\"])"
   ]
  },
  {
   "cell_type": "code",
   "execution_count": null,
   "id": "f99448c2",
   "metadata": {},
   "outputs": [],
   "source": [
    "predictions = model.predict(test_images)     # Vector of probabilities\n",
    "pred_labels = np.argmax(predictions, axis = 1) # We take the highest probability"
   ]
  },
  {
   "cell_type": "code",
   "execution_count": null,
   "id": "190c5f59",
   "metadata": {},
   "outputs": [],
   "source": [
    "CM = confusion_matrix(test_labels, pred_labels)\n",
    "def accuracy(confusion_matrix):\n",
    "    diagonal_sum = confusion_matrix.trace()\n",
    "    sum_of_all_elements = confusion_matrix.sum()\n",
    "    return diagonal_sum / sum_of_all_elements \n",
    "print(accuracy(CM))"
   ]
  },
  {
   "cell_type": "code",
   "execution_count": null,
   "id": "0283891a",
   "metadata": {},
   "outputs": [],
   "source": [
    "ax = plt.axes()\n",
    "sn.heatmap(CM, annot=True, \n",
    "           annot_kws={\"size\": 10}, \n",
    "           xticklabels=class_names, \n",
    "           yticklabels=class_names, ax = ax)\n",
    "ax.set_title('Confusion matrix')\n",
    "plt.show()"
   ]
  },
  {
   "cell_type": "code",
   "execution_count": null,
   "id": "21e7e959",
   "metadata": {},
   "outputs": [],
   "source": [
    "from keras.models import load_model\n",
    "# model.save(\"85%_model.h5\")\n"
   ]
  },
  {
   "cell_type": "code",
   "execution_count": null,
   "id": "2a0e966d",
   "metadata": {},
   "outputs": [],
   "source": [
    "model = load_model('85%_model.h5')"
   ]
  },
  {
   "cell_type": "code",
   "execution_count": null,
   "id": "14e92bdc",
   "metadata": {},
   "outputs": [],
   "source": [
    "from keras.applications.xception import xception,decode_predictions\n",
    "from keras.preprocessing import image\n",
    "import numpy as np\n",
    "import tensorflow as tf\n",
    "import matplotlib.pyplot as plt"
   ]
  },
  {
   "cell_type": "code",
   "execution_count": null,
   "id": "b6b7531a",
   "metadata": {},
   "outputs": [],
   "source": [
    "model = load_model('85%_model.h5')"
   ]
  },
  {
   "cell_type": "code",
   "execution_count": null,
   "id": "9d7eea22",
   "metadata": {},
   "outputs": [],
   "source": [
    "img_path='./0004362_person.jpg'\n",
    "img = image.load_img(img_path, target_size=(64, 64))"
   ]
  },
  {
   "cell_type": "code",
   "execution_count": null,
   "id": "5c0c57a8",
   "metadata": {},
   "outputs": [],
   "source": [
    "img_array = image.img_to_array(img)\n",
    "img_batch = np.expand_dims(img_array, axis=0)"
   ]
  },
  {
   "cell_type": "code",
   "execution_count": null,
   "id": "f66e1b42",
   "metadata": {},
   "outputs": [],
   "source": [
    "from tensorflow.keras.preprocessing import image\n",
    "from tensorflow.keras.applications.resnet50 import preprocess_input, decode_predictions"
   ]
  },
  {
   "cell_type": "code",
   "execution_count": null,
   "id": "5a0a041c",
   "metadata": {},
   "outputs": [],
   "source": [
    "img_preprocessed = preprocess_input(img_batch)"
   ]
  },
  {
   "cell_type": "code",
   "execution_count": null,
   "id": "d9427016",
   "metadata": {},
   "outputs": [],
   "source": [
    "model = load_model('85%_model.h5',)"
   ]
  },
  {
   "cell_type": "code",
   "execution_count": null,
   "id": "d5d25913",
   "metadata": {},
   "outputs": [],
   "source": [
    "prediction = model.predict(img_preprocessed)"
   ]
  },
  {
   "cell_type": "code",
   "execution_count": null,
   "id": "95df2622",
   "metadata": {},
   "outputs": [],
   "source": [
    "print(prediction)"
   ]
  },
  {
   "cell_type": "code",
   "execution_count": null,
   "id": "c1a72c4e",
   "metadata": {},
   "outputs": [],
   "source": [
    "from keras.models import load_model"
   ]
  },
  {
   "cell_type": "code",
   "execution_count": null,
   "id": "cb2cae20",
   "metadata": {},
   "outputs": [],
   "source": [
    "model = load_model('85%_model.h5')"
   ]
  },
  {
   "cell_type": "code",
   "execution_count": null,
   "id": "0a866c66",
   "metadata": {},
   "outputs": [],
   "source": [
    "from keras.preprocessing import image\n",
    "import matplotlib.pyplot as plt   \n",
    "import numpy as np\n",
    "import tensorflow as tf"
   ]
  },
  {
   "cell_type": "code",
   "execution_count": null,
   "id": "dd39102a",
   "metadata": {},
   "outputs": [],
   "source": [
    "IMAGE_PATH='./0004362_person.jpg'"
   ]
  },
  {
   "cell_type": "code",
   "execution_count": null,
   "id": "9b2bab67",
   "metadata": {},
   "outputs": [],
   "source": [
    "img=tf.keras.preprocessing.image.load_img(IMAGE_PATH,\n",
    "                                          target_size=(256,256))"
   ]
  },
  {
   "cell_type": "code",
   "execution_count": null,
   "id": "3ffd821e",
   "metadata": {},
   "outputs": [],
   "source": [
    "img=tf.keras.preprocessing.image.img_to_array(img)\n",
    "plt.imshow(img/255.)"
   ]
  },
  {
   "cell_type": "code",
   "execution_count": null,
   "id": "59378b72",
   "metadata": {},
   "outputs": [],
   "source": [
    "predictions=model.predict(np.array([img]))"
   ]
  },
  {
   "cell_type": "code",
   "execution_count": null,
   "id": "740f4227",
   "metadata": {},
   "outputs": [],
   "source": [
    "# class_names = ['monkey','person']\n",
    "# class_names[predictions]\n",
    "print(predictions)"
   ]
  },
  {
   "cell_type": "code",
   "execution_count": null,
   "id": "d3418490",
   "metadata": {},
   "outputs": [],
   "source": []
  }
 ],
 "metadata": {
  "kernelspec": {
   "display_name": "Python 3.9.13 ('python3.9')",
   "language": "python",
   "name": "python3"
  },
  "language_info": {
   "codemirror_mode": {
    "name": "ipython",
    "version": 3
   },
   "file_extension": ".py",
   "mimetype": "text/x-python",
   "name": "python",
   "nbconvert_exporter": "python",
   "pygments_lexer": "ipython3",
   "version": "3.9.13"
  },
  "vscode": {
   "interpreter": {
    "hash": "11600dc679beb4ef978853d1e717a0941782cf4c395ddf42dcd9d9a38e401422"
   }
  }
 },
 "nbformat": 4,
 "nbformat_minor": 5
}
