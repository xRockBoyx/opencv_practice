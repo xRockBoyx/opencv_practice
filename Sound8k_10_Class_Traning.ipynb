{
 "cells": [
  {
   "cell_type": "code",
   "execution_count": 5,
   "id": "9065ca3f",
   "metadata": {},
   "outputs": [],
   "source": [
    "import cv2, tensorflow, os, csv, shutil\n",
    "import numpy                as np\n",
    "import matplotlib.pyplot    as plt\n",
    "from tqdm                    import tqdm\n",
    "from tensorflow.keras.models                import Sequential\n",
    "from tensorflow.keras.layers                import Convolution2D\n",
    "from tensorflow.keras.layers                import MaxPooling2D\n",
    "from tensorflow.keras.layers                import Flatten\n",
    "from tensorflow.keras.layers                import Dense\n",
    "from tensorflow.keras.layers                import Dropout\n",
    "from tensorflow.keras.preprocessing.image   import ImageDataGenerator"
   ]
  },
  {
   "cell_type": "code",
   "execution_count": 17,
   "id": "0c052bbc",
   "metadata": {},
   "outputs": [
    {
     "data": {
      "text/plain": [
       "{'dog_bark': 0,\n",
       " 'children_playing': 1,\n",
       " 'car_horn': 2,\n",
       " 'air_conditioner': 3,\n",
       " 'engine_idling': 4,\n",
       " 'siren': 5,\n",
       " 'jackhammer': 6,\n",
       " 'drilling': 7,\n",
       " 'street_music': 8,\n",
       " 'gun_shot': 9}"
      ]
     },
     "execution_count": 17,
     "metadata": {},
     "output_type": "execute_result"
    }
   ],
   "source": [
    "# This part we train our model without ImageDataGenerator(不做資料擴增的意思)\n",
    "class_names = ['dog_bark', \n",
    "               'children_playing',\n",
    "               'car_horn', \n",
    "               'air_conditioner', \n",
    "               'engine_idling', \n",
    "               'siren',\n",
    "               'jackhammer',\n",
    "               'drilling',\n",
    "               'street_music',\n",
    "               'gun_shot']\n",
    "class_names_label = {class_name:i for i, class_name in enumerate(class_names)}\n",
    "nb_classes = len(class_names)\n",
    "IMAGE_SIZE = (256, 256)\n",
    "\n",
    "class_names_label"
   ]
  },
  {
   "cell_type": "markdown",
   "id": "a5cff14d",
   "metadata": {},
   "source": [
    "### 計算Dataset數量"
   ]
  },
  {
   "cell_type": "code",
   "execution_count": 4,
   "id": "554c0b4c",
   "metadata": {},
   "outputs": [
    {
     "name": "stdout",
     "output_type": "stream",
     "text": [
      "<built-in method keys of dict object at 0x7fdbc69da440>\n",
      "{'dog_bark': 1000, 'children_playing': 1000, 'car_horn': 429, 'air_conditioner': 1000, 'engine_idling': 1000, 'siren': 929, 'jackhammer': 1000, 'drilling': 1000, 'street_music': 1000, 'gun_shot': 374}\n"
     ]
    }
   ],
   "source": [
    "numberOfDatasets = {'dog_bark' : 0,\n",
    "                    'children_playing' : 0,\n",
    "                    'car_horn' : 0,\n",
    "                    'air_conditioner' : 0,\n",
    "                    'engine_idling' : 0,\n",
    "                    'siren':0,\n",
    "                    'jackhammer':0,\n",
    "                    'drilling':0,\n",
    "                    'street_music' : 0,\n",
    "                    'gun_shot' : 0\n",
    "                    }\n",
    "with open('UrbanSound8K.csv', newline = '') as csvfile:\n",
    "    allAudioFiles = csv.DictReader(csvfile)\n",
    "    for audio in allAudioFiles:\n",
    "        if audio['class'] == 'dog_bark':\n",
    "            numberOfDatasets['dog_bark'] += 1\n",
    "        elif audio['class'] == 'children_playing':\n",
    "            numberOfDatasets['children_playing'] += 1\n",
    "        elif audio['class'] == 'car_horn':\n",
    "            numberOfDatasets['car_horn'] += 1\n",
    "        elif audio['class'] == 'air_conditioner':\n",
    "            numberOfDatasets['air_conditioner'] += 1\n",
    "        elif audio['class'] == 'engine_idling':\n",
    "            numberOfDatasets['engine_idling'] += 1\n",
    "        elif audio['class'] == 'siren':\n",
    "            numberOfDatasets['siren'] += 1\n",
    "        elif audio['class'] == 'jackhammer':\n",
    "            numberOfDatasets['jackhammer'] += 1\n",
    "        elif audio['class'] == 'drilling':\n",
    "            numberOfDatasets['drilling'] += 1\n",
    "        elif audio['class'] == 'street_music':\n",
    "            numberOfDatasets['street_music'] += 1\n",
    "        elif audio['class'] == 'gun_shot':\n",
    "            numberOfDatasets['gun_shot'] += 1\n",
    "print(numberOfDatasets.keys)\n",
    "print(numberOfDatasets)"
   ]
  },
  {
   "cell_type": "code",
   "execution_count": 4,
   "id": "63f18836",
   "metadata": {},
   "outputs": [],
   "source": [
    "from shutil import copy2\n",
    "\n",
    "\n",
    "amount = {  'dog_bark' : 0,\n",
    "            'children_playing' : 0,\n",
    "            'car_horn' : 0,\n",
    "            'air_conditioner' : 0,\n",
    "            'engine_idling' : 0,\n",
    "            'siren':0,\n",
    "            'jackhammer':0,\n",
    "            'drilling':0,\n",
    "            'street_music' : 0,\n",
    "            'gun_shot' : 0\n",
    "        }\n",
    "\n",
    "with open('UrbanSound8K.csv', newline = '') as csvfile:\n",
    "    allAudioFiles = csv.DictReader(csvfile)\n",
    "    for audio in allAudioFiles:\n",
    "        folder          = audio['fold']\n",
    "        sliceFileName   = audio['slice_file_name'][:-4] + '.png'\n",
    "        testTrain       = ''\n",
    "        imageClass      = audio['class']\n",
    "        \n",
    "        amount[imageClass] += 1\n",
    "        destFolder = 'all_set'\n",
    "        # if amount[imageClass] < numberOfDatasets[imageClass] * 0.8 :\n",
    "        #         testTrain = 'training_set'\n",
    "        # else :\n",
    "        #         testTrain = 'test_set'\n",
    "        src_path  = \"Images_Backups/{fold}/{slice_file_name}\".format( fold = folder,\n",
    "                                                              slice_file_name = sliceFileName)\n",
    "        if not os.path.exists(\"Images/{mode}/{image_class}\".format(     mode = destFolder,\n",
    "                                                                        image_class = imageClass)):\n",
    "                os.makedirs(\"Images/{mode}/{image_class}\".format(     mode = destFolder,\n",
    "                                                                        image_class = imageClass))\n",
    "        dest_path = \"Images/{mode}/{image_class}/{slice_file_name}\".format( mode = destFolder,\n",
    "                                                                            image_class = imageClass,\n",
    "                                                                            slice_file_name = sliceFileName)\n",
    "        # print(src_path)\n",
    "        # print(dest_path)\n",
    "\n",
    "        shutil.move(src = src_path,\n",
    "                    dst = dest_path,\n",
    "                    copy_function = copy2)"
   ]
  },
  {
   "cell_type": "code",
   "execution_count": 20,
   "id": "8b3e9130",
   "metadata": {},
   "outputs": [],
   "source": [
    "def load_data():\n",
    "    datasets = ['Images/training_set', 'Images/test_set']#資料夾\n",
    "    output = []\n",
    "    \n",
    "    # Iterate through training and test sets\n",
    "    for dataset in datasets:\n",
    "        \n",
    "        images = []\n",
    "        labels = []\n",
    "        \n",
    "        print(\"Loading {}\".format(dataset))\n",
    "        \n",
    "        # Iterate through each folder corresponding to a category\n",
    "        for folder in os.listdir(dataset):\n",
    "            if folder == \".DS_Store\":\n",
    "                continue\n",
    "            label = class_names_label[folder]\n",
    "            \n",
    "            # Iterate through each image in our folder\n",
    "            for file in tqdm(os.listdir(os.path.join(dataset, folder))):\n",
    "                \n",
    "                # Get the path name of the image\n",
    "                img_path = os.path.join(os.path.join(dataset, folder), file)\n",
    "                if file == \"desktop.ini\":\n",
    "                    break\n",
    "                if file == \".DS_Store\":\n",
    "                    continue\n",
    "                # Open and resize the img\n",
    "                # print(img_path)\n",
    "                image = cv2.imread(img_path)\n",
    "                # print(image.shape)\n",
    "                image = cv2.cvtColor(image, cv2.COLOR_BGR2RGB)\n",
    "                #cv讀照片，顏色莫認為BGR，需轉為RGB，錯誤表示黑白或已轉\n",
    "                image = cv2.resize(image, IMAGE_SIZE) \n",
    "                \n",
    "                # Append the image and its corresponding label to the output\n",
    "                images.append(image)\n",
    "                labels.append(label)\n",
    "                \n",
    "        images = np.array(images, dtype = 'float32')\n",
    "        labels = np.array(labels, dtype = 'int32')   \n",
    "        \n",
    "        output.append((images, labels))\n",
    "\n",
    "    return output"
   ]
  },
  {
   "cell_type": "code",
   "execution_count": 21,
   "id": "83349180",
   "metadata": {},
   "outputs": [
    {
     "name": "stdout",
     "output_type": "stream",
     "text": [
      "Loading Images/training_set\n"
     ]
    },
    {
     "name": "stderr",
     "output_type": "stream",
     "text": [
      "100%|██████████| 464/464 [00:02<00:00, 182.70it/s]\n",
      "100%|██████████| 214/214 [00:01<00:00, 207.36it/s]\n",
      "100%|██████████| 186/186 [00:00<00:00, 213.66it/s]\n",
      "100%|██████████| 499/499 [00:02<00:00, 196.71it/s]\n",
      "100%|██████████| 499/499 [00:02<00:00, 203.86it/s]\n",
      "100%|██████████| 499/499 [00:02<00:00, 202.17it/s]\n",
      "100%|██████████| 499/499 [00:02<00:00, 203.78it/s]\n",
      "100%|██████████| 499/499 [00:02<00:00, 201.32it/s]\n",
      "100%|██████████| 499/499 [00:02<00:00, 203.31it/s]\n",
      "100%|██████████| 499/499 [00:02<00:00, 188.46it/s]\n"
     ]
    },
    {
     "name": "stdout",
     "output_type": "stream",
     "text": [
      "Loading Images/test_set\n"
     ]
    },
    {
     "name": "stderr",
     "output_type": "stream",
     "text": [
      "100%|██████████| 465/465 [00:02<00:00, 183.25it/s]\n",
      "100%|██████████| 215/215 [00:01<00:00, 203.73it/s]\n",
      "100%|██████████| 188/188 [00:00<00:00, 192.67it/s]\n",
      "100%|██████████| 501/501 [00:02<00:00, 168.72it/s]\n",
      "100%|██████████| 501/501 [00:02<00:00, 178.33it/s]\n",
      "100%|██████████| 501/501 [00:02<00:00, 200.88it/s]\n",
      "100%|██████████| 501/501 [00:02<00:00, 168.26it/s]\n",
      "100%|██████████| 501/501 [00:02<00:00, 195.54it/s]\n",
      "100%|██████████| 501/501 [00:02<00:00, 202.61it/s]\n",
      "100%|██████████| 501/501 [00:02<00:00, 200.24it/s]\n"
     ]
    }
   ],
   "source": [
    "(train_images, train_labels), (test_images, test_labels) = load_data()"
   ]
  },
  {
   "cell_type": "code",
   "execution_count": 22,
   "id": "f7e227fc",
   "metadata": {},
   "outputs": [],
   "source": [
    "train_images = train_images / 255.0 \n",
    "test_images = test_images / 255.0"
   ]
  },
  {
   "cell_type": "code",
   "execution_count": 24,
   "id": "65509eb2",
   "metadata": {},
   "outputs": [
    {
     "name": "stderr",
     "output_type": "stream",
     "text": [
      "2022-10-17 20:18:38.345141: I tensorflow/core/platform/cpu_feature_guard.cc:193] This TensorFlow binary is optimized with oneAPI Deep Neural Network Library (oneDNN) to use the following CPU instructions in performance-critical operations:  AVX2 FMA\n",
      "To enable them in other operations, rebuild TensorFlow with the appropriate compiler flags.\n"
     ]
    }
   ],
   "source": [
    "model = Sequential()\n",
    "model.add(Convolution2D(256 , 3, 3, padding = 'same', input_shape = (256, 256, 3), activation = 'relu'))\n",
    "model.add(MaxPooling2D(pool_size  = (2,2)))\n",
    "model.add(Dropout(0.2))\n",
    "model.add(Convolution2D(512 , 3, 3, padding = 'same', input_shape = (256, 256, 3), activation = 'relu'))\n",
    "model.add(MaxPooling2D(pool_size  = (2,2)))\n",
    "model.add(Dropout(0.2))\n",
    "model.add(Flatten())\n",
    "model.add(Dropout(0.2))\n",
    "model.add(Dense(128, activation = 'relu'))\n",
    "model.add(Dense(10, activation = 'softmax'))"
   ]
  },
  {
   "cell_type": "code",
   "execution_count": 25,
   "id": "cf48c6d6",
   "metadata": {},
   "outputs": [],
   "source": [
    "model.compile(optimizer = 'adam', \n",
    "              loss = 'sparse_categorical_crossentropy', \n",
    "              metrics = ['accuracy'])"
   ]
  },
  {
   "cell_type": "code",
   "execution_count": 26,
   "id": "0fa777e7",
   "metadata": {},
   "outputs": [
    {
     "name": "stdout",
     "output_type": "stream",
     "text": [
      "Epoch 1/50\n",
      "137/137 [==============================] - 177s 1s/step - loss: 2.2796 - accuracy: 0.1292 - val_loss: 2.2009 - val_accuracy: 0.1744\n",
      "Epoch 2/50\n",
      "137/137 [==============================] - 161s 1s/step - loss: 1.9306 - accuracy: 0.2924 - val_loss: 1.9724 - val_accuracy: 0.2818\n",
      "Epoch 3/50\n",
      "137/137 [==============================] - 159s 1s/step - loss: 1.6957 - accuracy: 0.3815 - val_loss: 1.8328 - val_accuracy: 0.3509\n",
      "Epoch 4/50\n",
      "137/137 [==============================] - 160s 1s/step - loss: 1.5533 - accuracy: 0.4538 - val_loss: 1.7612 - val_accuracy: 0.4057\n",
      "Epoch 5/50\n",
      "137/137 [==============================] - 160s 1s/step - loss: 1.4986 - accuracy: 0.4609 - val_loss: 1.7058 - val_accuracy: 0.4199\n",
      "Epoch 6/50\n",
      "137/137 [==============================] - 160s 1s/step - loss: 1.4552 - accuracy: 0.4781 - val_loss: 1.7507 - val_accuracy: 0.3986\n",
      "Epoch 7/50\n",
      "137/137 [==============================] - 165s 1s/step - loss: 1.3903 - accuracy: 0.5045 - val_loss: 1.7404 - val_accuracy: 0.4098\n",
      "Epoch 8/50\n",
      "137/137 [==============================] - 165s 1s/step - loss: 1.3667 - accuracy: 0.5123 - val_loss: 1.6325 - val_accuracy: 0.4366\n",
      "Epoch 9/50\n",
      "137/137 [==============================] - 150s 1s/step - loss: 1.3396 - accuracy: 0.5283 - val_loss: 1.7242 - val_accuracy: 0.4178\n",
      "Epoch 10/50\n",
      "137/137 [==============================] - 149s 1s/step - loss: 1.3056 - accuracy: 0.5357 - val_loss: 1.6846 - val_accuracy: 0.4510\n",
      "Epoch 11/50\n",
      "137/137 [==============================] - 151s 1s/step - loss: 1.2516 - accuracy: 0.5520 - val_loss: 1.7497 - val_accuracy: 0.4240\n",
      "Epoch 12/50\n",
      "137/137 [==============================] - 156s 1s/step - loss: 1.2302 - accuracy: 0.5653 - val_loss: 1.7406 - val_accuracy: 0.4558\n",
      "Epoch 13/50\n",
      "137/137 [==============================] - 155s 1s/step - loss: 1.2100 - accuracy: 0.5720 - val_loss: 1.6764 - val_accuracy: 0.4281\n",
      "Epoch 14/50\n",
      "137/137 [==============================] - 157s 1s/step - loss: 1.1964 - accuracy: 0.5848 - val_loss: 1.6640 - val_accuracy: 0.4574\n",
      "Epoch 15/50\n",
      "137/137 [==============================] - 157s 1s/step - loss: 1.2093 - accuracy: 0.5710 - val_loss: 1.6661 - val_accuracy: 0.4427\n",
      "Epoch 16/50\n",
      "137/137 [==============================] - 158s 1s/step - loss: 1.1539 - accuracy: 0.5949 - val_loss: 1.7244 - val_accuracy: 0.4437\n",
      "Epoch 17/50\n",
      "137/137 [==============================] - 159s 1s/step - loss: 1.1506 - accuracy: 0.5983 - val_loss: 1.7009 - val_accuracy: 0.4265\n",
      "Epoch 18/50\n",
      "137/137 [==============================] - 176s 1s/step - loss: 1.1231 - accuracy: 0.6135 - val_loss: 1.6645 - val_accuracy: 0.4654\n",
      "Epoch 19/50\n",
      "137/137 [==============================] - 158s 1s/step - loss: 1.1222 - accuracy: 0.6084 - val_loss: 1.6608 - val_accuracy: 0.4681\n",
      "Epoch 20/50\n",
      "137/137 [==============================] - 158s 1s/step - loss: 1.1067 - accuracy: 0.6144 - val_loss: 1.6869 - val_accuracy: 0.4697\n",
      "Epoch 21/50\n",
      "137/137 [==============================] - 180s 1s/step - loss: 1.0964 - accuracy: 0.6176 - val_loss: 1.6711 - val_accuracy: 0.4581\n",
      "Epoch 22/50\n",
      "137/137 [==============================] - 188s 1s/step - loss: 1.0905 - accuracy: 0.6236 - val_loss: 1.6405 - val_accuracy: 0.4725\n",
      "Epoch 23/50\n",
      "137/137 [==============================] - 185s 1s/step - loss: 1.0463 - accuracy: 0.6422 - val_loss: 1.6816 - val_accuracy: 0.4805\n",
      "Epoch 24/50\n",
      "137/137 [==============================] - 181s 1s/step - loss: 1.0554 - accuracy: 0.6332 - val_loss: 1.7503 - val_accuracy: 0.4594\n",
      "Epoch 25/50\n",
      "137/137 [==============================] - 179s 1s/step - loss: 1.0415 - accuracy: 0.6378 - val_loss: 1.7059 - val_accuracy: 0.4414\n",
      "Epoch 26/50\n",
      "137/137 [==============================] - 180s 1s/step - loss: 1.0273 - accuracy: 0.6470 - val_loss: 1.7415 - val_accuracy: 0.4553\n",
      "Epoch 27/50\n",
      "137/137 [==============================] - 180s 1s/step - loss: 1.0245 - accuracy: 0.6521 - val_loss: 1.6821 - val_accuracy: 0.4704\n",
      "Epoch 28/50\n",
      "137/137 [==============================] - 182s 1s/step - loss: 1.0056 - accuracy: 0.6509 - val_loss: 1.7242 - val_accuracy: 0.4583\n",
      "Epoch 29/50\n",
      "137/137 [==============================] - 181s 1s/step - loss: 0.9859 - accuracy: 0.6644 - val_loss: 1.7503 - val_accuracy: 0.4722\n",
      "Epoch 30/50\n",
      "137/137 [==============================] - 179s 1s/step - loss: 0.9607 - accuracy: 0.6658 - val_loss: 1.6620 - val_accuracy: 0.4793\n",
      "Epoch 31/50\n",
      "137/137 [==============================] - 160s 1s/step - loss: 0.9604 - accuracy: 0.6723 - val_loss: 1.7085 - val_accuracy: 0.4773\n",
      "Epoch 32/50\n",
      "137/137 [==============================] - 159s 1s/step - loss: 0.9518 - accuracy: 0.6723 - val_loss: 1.7403 - val_accuracy: 0.4750\n",
      "Epoch 33/50\n",
      "137/137 [==============================] - 161s 1s/step - loss: 0.9497 - accuracy: 0.6810 - val_loss: 1.7477 - val_accuracy: 0.4665\n",
      "Epoch 34/50\n",
      "137/137 [==============================] - 160s 1s/step - loss: 0.9378 - accuracy: 0.6748 - val_loss: 1.7014 - val_accuracy: 0.4859\n",
      "Epoch 35/50\n",
      "137/137 [==============================] - 159s 1s/step - loss: 0.9320 - accuracy: 0.6787 - val_loss: 1.7194 - val_accuracy: 0.4807\n",
      "Epoch 36/50\n",
      "137/137 [==============================] - 158s 1s/step - loss: 0.9286 - accuracy: 0.6773 - val_loss: 1.7362 - val_accuracy: 0.4903\n",
      "Epoch 37/50\n",
      "137/137 [==============================] - 159s 1s/step - loss: 0.9079 - accuracy: 0.6922 - val_loss: 1.7379 - val_accuracy: 0.4862\n",
      "Epoch 38/50\n",
      "137/137 [==============================] - 160s 1s/step - loss: 0.8908 - accuracy: 0.6924 - val_loss: 1.7690 - val_accuracy: 0.4811\n",
      "Epoch 39/50\n",
      "137/137 [==============================] - 159s 1s/step - loss: 0.8801 - accuracy: 0.6998 - val_loss: 1.7144 - val_accuracy: 0.4885\n",
      "Epoch 40/50\n",
      "137/137 [==============================] - 160s 1s/step - loss: 0.8680 - accuracy: 0.7014 - val_loss: 1.8334 - val_accuracy: 0.4729\n",
      "Epoch 41/50\n",
      "137/137 [==============================] - 159s 1s/step - loss: 0.8751 - accuracy: 0.7053 - val_loss: 1.8166 - val_accuracy: 0.4816\n",
      "Epoch 42/50\n",
      "137/137 [==============================] - 160s 1s/step - loss: 0.8624 - accuracy: 0.7003 - val_loss: 1.8555 - val_accuracy: 0.4674\n",
      "Epoch 43/50\n",
      "137/137 [==============================] - 160s 1s/step - loss: 0.8313 - accuracy: 0.7175 - val_loss: 1.8455 - val_accuracy: 0.4809\n",
      "Epoch 44/50\n",
      "137/137 [==============================] - 159s 1s/step - loss: 0.8496 - accuracy: 0.7048 - val_loss: 1.7581 - val_accuracy: 0.4791\n",
      "Epoch 45/50\n",
      "137/137 [==============================] - 158s 1s/step - loss: 0.8474 - accuracy: 0.7009 - val_loss: 1.7639 - val_accuracy: 0.4905\n",
      "Epoch 46/50\n",
      "137/137 [==============================] - 158s 1s/step - loss: 0.8222 - accuracy: 0.7147 - val_loss: 1.8003 - val_accuracy: 0.4864\n",
      "Epoch 47/50\n",
      "137/137 [==============================] - 159s 1s/step - loss: 0.8298 - accuracy: 0.7030 - val_loss: 1.8157 - val_accuracy: 0.4702\n",
      "Epoch 48/50\n",
      "137/137 [==============================] - 159s 1s/step - loss: 0.8172 - accuracy: 0.7209 - val_loss: 1.7746 - val_accuracy: 0.4869\n",
      "Epoch 49/50\n",
      "137/137 [==============================] - 159s 1s/step - loss: 0.8141 - accuracy: 0.7193 - val_loss: 1.7151 - val_accuracy: 0.4795\n",
      "Epoch 50/50\n",
      "137/137 [==============================] - 159s 1s/step - loss: 0.7934 - accuracy: 0.7172 - val_loss: 1.7777 - val_accuracy: 0.4905\n"
     ]
    }
   ],
   "source": [
    "history = model.fit(train_images, train_labels, \n",
    "                    validation_data=(test_images, test_labels),\n",
    "                    #verbose=2,callbacks=[earlyStop],\n",
    "                    batch_size=32, epochs=50)"
   ]
  },
  {
   "cell_type": "code",
   "execution_count": 27,
   "id": "dc59397a",
   "metadata": {},
   "outputs": [],
   "source": [
    "model.save('Sound8k_10_Class_Epoch_100_Batch_32.h5')"
   ]
  },
  {
   "cell_type": "code",
   "execution_count": 35,
   "id": "a50c7530",
   "metadata": {},
   "outputs": [
    {
     "data": {
      "image/png": "[encoded data removed]",
      "text/plain": [
       "<Figure size 640x480 with 1 Axes>"
      ]
     },
     "metadata": {},
     "output_type": "display_data"
    }
   ],
   "source": [
    "plt.plot(history.history['loss'])\n",
    "plt.plot(history.history[\"val_loss\"])\n",
    "plt.title('train_loss')\n",
    "plt.ylabel('loss')\n",
    "plt.xlabel('Epoch')\n",
    "plt.legend(['train', 'val'], loc='upper right')\n",
    "plt.savefig('loss.png')\n",
    "plt.show()"
   ]
  },
  {
   "cell_type": "code",
   "execution_count": 36,
   "id": "51d27d0c",
   "metadata": {},
   "outputs": [
    {
     "data": {
      "image/png": "[encoded data removed]",
      "text/plain": [
       "<Figure size 640x480 with 1 Axes>"
      ]
     },
     "metadata": {},
     "output_type": "display_data"
    }
   ],
   "source": [
    "plt.plot(history.history['accuracy'])\n",
    "plt.plot(history.history['val_accuracy'])\n",
    "plt.title('model accuracy')\n",
    "plt.ylabel('accuracy')\n",
    "plt.xlabel('epoch')\n",
    "plt.legend(['train', 'val'], loc='upper left')\n",
    "plt.savefig('Acc.png')\n",
    "plt.show()"
   ]
  },
  {
   "cell_type": "code",
   "execution_count": 2,
   "id": "9961208c",
   "metadata": {},
   "outputs": [
    {
     "ename": "SyntaxError",
     "evalue": "invalid syntax (2875040451.py, line 2)",
     "output_type": "error",
     "traceback": [
      "\u001b[0;36m  Input \u001b[0;32mIn [2]\u001b[0;36m\u001b[0m\n\u001b[0;31m    from /Users/huangweikai/Desktop/PROJECTS/opencv_practice/LineNotifyController            import LineNotifier\u001b[0m\n\u001b[0m         ^\u001b[0m\n\u001b[0;31mSyntaxError\u001b[0m\u001b[0;31m:\u001b[0m invalid syntax\n"
     ]
    }
   ],
   "source": [
    "# #將結果用Line Notify傳給我\n",
    "from LineNotifyController            import LineNotifier\n",
    "import time\n",
    "\n",
    "BUCKET_NAME          = 'ai-training-notifier-bucket'\n",
    "ACC_IMAGE_FILE_NAME  = 'Acc.png'\n",
    "LOSS_IMAGE_FILE_NAME = 'Loss.png'\n",
    "\n",
    "Notifier = LineNotifier(notifyToken               = '8sINtMZ1MjV2mOnnbIe0j6KTbiWtlfv6ilzgALwfUai',\n",
    "                        privateApiKeyJsonFilePath = './line-notifier-image-storage-65936edbb18a.json')\n",
    "\n",
    "Notifier.upload_to_google_bucket(bucketName = BUCKET_NAME,\n",
    "                                 bucketFileName = ACC_IMAGE_FILE_NAME,\n",
    "                                 filePath = ACC_IMAGE_FILE_NAME)\n",
    "Notifier.upload_to_google_bucket(bucketName = BUCKET_NAME,\n",
    "                                 bucketFileName = LOSS_IMAGE_FILE_NAME,\n",
    "                                 filePath = LOSS_IMAGE_FILE_NAME)\n",
    "\n",
    "localtime = time.asctime( time.localtime(time.time()) )\n",
    "\n",
    "Notifier.send_message(text = '訓練完成時間' + str(localtime))\n",
    "Notifier.send_image(text = \"\",\n",
    "                    bucketFileName = ACC_IMAGE_FILE_NAME)\n",
    "Notifier.send_image(text = \"\",\n",
    "                    bucketFileName = LOSS_IMAGE_FILE_NAME)"
   ]
  }
 ],
 "metadata": {
  "kernelspec": {
   "display_name": "Python 3.9.12 ('base')",
   "language": "python",
   "name": "python3"
  },
  "language_info": {
   "codemirror_mode": {
    "name": "ipython",
    "version": 3
   },
   "file_extension": ".py",
   "mimetype": "text/x-python",
   "name": "python",
   "nbconvert_exporter": "python",
   "pygments_lexer": "ipython3",
   "version": "3.9.12"
  },
  "vscode": {
   "interpreter": {
    "hash": "24288cddaea3ab1294e273b55f1675a70fccf211564636a098623f4741b2064c"
   }
  }
 },
 "nbformat": 4,
 "nbformat_minor": 5
}
